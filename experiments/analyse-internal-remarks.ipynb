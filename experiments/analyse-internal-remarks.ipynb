{
 "cells": [
  {
   "cell_type": "code",
   "execution_count": 1,
   "metadata": {},
   "outputs": [],
   "source": [
    "from lxml import etree\n",
    "from os import listdir\n",
    "from os.path import join\n"
   ]
  },
  {
   "cell_type": "code",
   "execution_count": 2,
   "metadata": {},
   "outputs": [],
   "source": [
    "inputDir = '../data/xml/merged'"
   ]
  },
  {
   "cell_type": "code",
   "execution_count": 3,
   "metadata": {},
   "outputs": [],
   "source": [
    "inputFiles = [join(inputDir, d) for d in listdir(inputDir) if d.endswith('.xml')]"
   ]
  },
  {
   "cell_type": "code",
   "execution_count": 4,
   "metadata": {},
   "outputs": [
    {
     "name": "stdout",
     "output_type": "stream",
     "text": [
      "Found 1421 input files\n"
     ]
    }
   ],
   "source": [
    "print(\"Found %d input files\" % len(inputFiles))"
   ]
  },
  {
   "cell_type": "code",
   "execution_count": 5,
   "metadata": {},
   "outputs": [],
   "source": [
    "root = etree.XML(\"<collection/>\")\n",
    "for inputFile in inputFiles:\n",
    "    collection = etree.parse(inputFile)\n",
    "    for record in collection.findall(\"//record\"):\n",
    "        root.append(record)"
   ]
  },
  {
   "cell_type": "code",
   "execution_count": 6,
   "metadata": {},
   "outputs": [],
   "source": [
    "records = root.findall(\".//record\")"
   ]
  },
  {
   "cell_type": "code",
   "execution_count": 7,
   "metadata": {},
   "outputs": [],
   "source": [
    "entityTypes = list(set([d.text for d in root.findall('.//parsed_internal_remarks/typ/value')]))"
   ]
  },
  {
   "cell_type": "code",
   "execution_count": 8,
   "metadata": {},
   "outputs": [
    {
     "name": "stdout",
     "output_type": "stream",
     "text": [
      "Types:\n",
      " - Gruppe\n",
      " - Person\n",
      " - Geografikum\n"
     ]
    }
   ],
   "source": [
    "print(\"Types:\\n -\", \"\\n - \".join(entityTypes))"
   ]
  },
  {
   "cell_type": "code",
   "execution_count": 9,
   "metadata": {},
   "outputs": [],
   "source": [
    "entityRoles = list(set([d.text for d in root.findall('.//parsed_internal_remarks/rolle/value')]))"
   ]
  },
  {
   "cell_type": "code",
   "execution_count": 10,
   "metadata": {},
   "outputs": [
    {
     "name": "stdout",
     "output_type": "stream",
     "text": [
      "Roles:\n",
      " - Beteiligt\n",
      " - Adressat\n",
      " - Publikationsort\n",
      " - Absendeort\n",
      " - Erwähnt\n",
      " - Abgebildet\n",
      " - Entstehungsort /\n",
      " - Entstehungsort\n",
      " - Verfasser\n"
     ]
    }
   ],
   "source": [
    "print(\"Roles:\\n -\", \"\\n - \".join(entityRoles))"
   ]
  },
  {
   "cell_type": "code",
   "execution_count": 11,
   "metadata": {},
   "outputs": [],
   "source": [
    "typesAndRoles = {}"
   ]
  },
  {
   "cell_type": "code",
   "execution_count": 12,
   "metadata": {},
   "outputs": [],
   "source": [
    "for item in root.findall('.//parsed_internal_remarks'):\n",
    "    try:\n",
    "        entityType = item.find('typ/value').text\n",
    "    except:\n",
    "        continue\n",
    "    if not entityType in typesAndRoles:\n",
    "        typesAndRoles[entityType] = []\n",
    "    try:\n",
    "        role = item.find('rolle/value').text\n",
    "    except:\n",
    "        continue\n",
    "    if not role in typesAndRoles[entityType]:\n",
    "        typesAndRoles[entityType].append(role)"
   ]
  },
  {
   "cell_type": "code",
   "execution_count": 13,
   "metadata": {},
   "outputs": [
    {
     "data": {
      "text/plain": [
       "{'Geografikum': ['Entstehungsort', 'Absendeort', 'Publikationsort'],\n",
       " 'Person': ['Erwähnt', 'Verfasser', 'Abgebildet', 'Beteiligt'],\n",
       " 'Gruppe': ['Erwähnt', 'Abgebildet', 'Adressat']}"
      ]
     },
     "execution_count": 13,
     "metadata": {},
     "output_type": "execute_result"
    }
   ],
   "source": [
    "typesAndRoles"
   ]
  },
  {
   "cell_type": "code",
   "execution_count": 32,
   "metadata": {},
   "outputs": [],
   "source": [
    "persons = {}\n",
    "for item in root.findall('.//parsed_internal_remarks'):\n",
    "    try:\n",
    "        entityType = item.find('typ/value').text\n",
    "    except:\n",
    "        continue\n",
    "    if entityType == \"Person\":\n",
    "        try:\n",
    "            entity = item.find('entitaet/value').text\n",
    "        except:\n",
    "            continue\n",
    "        if entity not in persons:\n",
    "            persons[entity] = 0\n",
    "        persons[entity]+=1\n",
    "persons = dict(sorted(persons.items()))"
   ]
  },
  {
   "cell_type": "code",
   "execution_count": 26,
   "metadata": {},
   "outputs": [
    {
     "data": {
      "text/plain": [
       "116"
      ]
     },
     "execution_count": 26,
     "metadata": {},
     "output_type": "execute_result"
    }
   ],
   "source": [
    "len(persons)"
   ]
  },
  {
   "cell_type": "code",
   "execution_count": 33,
   "metadata": {},
   "outputs": [
    {
     "data": {
      "text/plain": [
       "{'54 Teilnehmer am IV. Kurs an der Rheinhardswaldschule Kassel': 1,\n",
       " 'Abegg': 1,\n",
       " 'Alter Bekannter von Johannes Itten': 1,\n",
       " 'An Johannes Ittens Kunst der Farbe interessierte Person': 1,\n",
       " 'Angestellter der Musei Vaticani': 1,\n",
       " 'Architekt an der Documenta III': 1,\n",
       " 'Architekt in Pretoria': 1,\n",
       " 'Bauer in Flirsch, Gastgeber von Johannes Itten': 1,\n",
       " 'Bauhausdirektion 1919': 1,\n",
       " 'Bayerischer Meister Ende 14. Jh.': 1,\n",
       " 'Bedienerin Johannes Ittens': 1,\n",
       " 'Bert': 1,\n",
       " 'Berühmter Kunstgelehrter': 2,\n",
       " 'Bildhauer': 1,\n",
       " 'Bl.': 1,\n",
       " 'Braun 1': 1,\n",
       " 'Braun 2': 1,\n",
       " 'Bull.': 1,\n",
       " 'Böhmischer Meister 14. Jh.': 1,\n",
       " 'Chr. v. A.': 1,\n",
       " 'Chung Ssü-Kung': 1,\n",
       " 'Costantini': 1,\n",
       " 'Dame': 1,\n",
       " 'Direktor der Chirurgischen Klinik Zürich im Jahr 1961': 1,\n",
       " 'Dr. Grünwald': 1,\n",
       " 'Dr. Hartmann': 1,\n",
       " 'Dr. Kronenberger': 1,\n",
       " 'Dr. Melcher': 1,\n",
       " 'Dr. Zellweger': 1,\n",
       " 'Ehemann der Ziehschwester von Anna Höllering': 1,\n",
       " 'Feuerstack': 1,\n",
       " 'Francesko': 1,\n",
       " 'Frau Wegener': 1,\n",
       " 'Frau eines berühmten Kunstgelehrten': 2,\n",
       " 'Frau von Fournier': 1,\n",
       " 'Frl. Dahl': 1,\n",
       " 'Fuhrknecht in Salzburg': 1,\n",
       " 'Fürst Schwarzenberg': 1,\n",
       " 'Gasmann': 1,\n",
       " 'Gipsgiesser, der Johannes Ittens Modell bearbeitet': 1,\n",
       " 'Graber': 1,\n",
       " 'Gunhild': 1,\n",
       " 'Gör.': 1,\n",
       " 'H. Bg.': 1,\n",
       " 'Hagemann': 1,\n",
       " 'Hermann': 1,\n",
       " 'Hintermann': 1,\n",
       " 'Inspektor einer Primarschule': 2,\n",
       " 'Junger Sonnengott im Triumphwagen': 1,\n",
       " 'Kaiser der Handynastie': 2,\n",
       " 'Klaus': 1,\n",
       " 'Konkurrent von Lucia Moholy bei der Berufung auf eine Professur': 1,\n",
       " 'Kritiker an der Documenta III': 1,\n",
       " 'Kunstsammler Goloubeff': 1,\n",
       " 'Kunstschüler Ittens': 1,\n",
       " 'Köppler': 1,\n",
       " 'Lange': 1,\n",
       " 'Lenerl': 1,\n",
       " 'Li Chien': 1,\n",
       " 'Lor.': 1,\n",
       " 'Mann der schönen Bürgerin': 1,\n",
       " 'Maria': 1,\n",
       " 'Matthieu': 1,\n",
       " 'Maurermeister um 1919 in Weimar': 1,\n",
       " 'Miss Parker': 1,\n",
       " 'Misserl': 1,\n",
       " 'Natascha': 1,\n",
       " 'Natascha D.': 1,\n",
       " 'Nießen': 1,\n",
       " 'Nä.': 1,\n",
       " 'Oskar Schlemmers Bruder in Kaupen': 1,\n",
       " 'Oskar Schlemmers Schwiegermutter': 1,\n",
       " 'Palmgreen': 1,\n",
       " 'Pestalozzi': 1,\n",
       " 'Plumperl': 1,\n",
       " 'Portier des Österreichischen Museums für Kunst und Industrie': 1,\n",
       " 'Prof. Patzek': 1,\n",
       " 'Rasch': 1,\n",
       " 'Rauh': 1,\n",
       " 'Referent für Kunsterziehung an den staatlichen Schulen': 1,\n",
       " 'Resi': 1,\n",
       " 'Ru.': 1,\n",
       " 'Rub.': 1,\n",
       " 'Russischer Künstler oder Kunstpädagoge': 1,\n",
       " 'Sabine P.': 1,\n",
       " 'Scheper': 1,\n",
       " 'Schifer': 1,\n",
       " 'Schmitt': 1,\n",
       " 'Schoch': 1,\n",
       " 'Schottische Grossmutter': 1,\n",
       " 'Schulrat Engel': 1,\n",
       " 'Schwedischer Industrieller': 1,\n",
       " 'Schwägerin von Resi': 1,\n",
       " 'Schöne Bürgerin': 1,\n",
       " 'Schülerin Ittens an der Itten-Schule Berlin': 1,\n",
       " 'Sekretär oder Sekretärin von Renato Bartoccini': 1,\n",
       " \"Sekretär von Guglielmo De Angelis d'Ossat\": 1,\n",
       " 'Slowakischer Augenoperateur': 1,\n",
       " 'Sohn von Helge Lindberg': 1,\n",
       " 'Spie.': 1,\n",
       " 'Stör.': 1,\n",
       " 'Suzanne B.': 1,\n",
       " 'Südfranzösische Grossmutter': 1,\n",
       " 'Tochter von Adolf Hölzel': 4,\n",
       " 'Tochter von Johannes Itten und Hildegard Anbelang': 1,\n",
       " 'Tul.': 1,\n",
       " 'Unterzeichner einer Erlaubnisurkunde des Provinzial-Schulkollegiums Berlin': 1,\n",
       " 'Vater von Hildegard und Emmy Anbelang': 1,\n",
       " 'Von Johannes Itten am 26.05.1918 zu empfangender Besuch': 1,\n",
       " 'Weberin': 1,\n",
       " 'Wind.': 1,\n",
       " 'Wärter der Musei Vaticani': 1,\n",
       " 'Yogi': 1,\n",
       " 'Yoshioka': 1,\n",
       " 'Ziehschwester von Anna Höllering': 1,\n",
       " 'v. Falk.': 1}"
      ]
     },
     "execution_count": 33,
     "metadata": {},
     "output_type": "execute_result"
    }
   ],
   "source": [
    "persons"
   ]
  },
  {
   "cell_type": "code",
   "execution_count": null,
   "metadata": {},
   "outputs": [],
   "source": [
    "personsByCount = dict(sorted(persons.items(), key=lambda item: item[1], reverse=True))\n"
   ]
  }
 ],
 "metadata": {
  "kernelspec": {
   "display_name": "Python 3",
   "language": "python",
   "name": "python3"
  },
  "language_info": {
   "codemirror_mode": {
    "name": "ipython",
    "version": 3
   },
   "file_extension": ".py",
   "mimetype": "text/x-python",
   "name": "python",
   "nbconvert_exporter": "python",
   "pygments_lexer": "ipython3",
   "version": "3.7.3"
  }
 },
 "nbformat": 4,
 "nbformat_minor": 2
}
