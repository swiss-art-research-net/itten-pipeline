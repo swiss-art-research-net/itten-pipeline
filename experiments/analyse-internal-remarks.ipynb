{
 "cells": [
  {
   "cell_type": "code",
   "execution_count": 20,
   "metadata": {},
   "outputs": [],
   "source": [
    "from lxml import etree\n",
    "from os import listdir\n",
    "from os.path import join\n"
   ]
  },
  {
   "cell_type": "code",
   "execution_count": 3,
   "metadata": {},
   "outputs": [],
   "source": [
    "inputDir = '../data/xml/merged'"
   ]
  },
  {
   "cell_type": "code",
   "execution_count": 4,
   "metadata": {},
   "outputs": [],
   "source": [
    "inputFiles = [join(inputDir, d) for d in listdir(inputDir) if d.endswith('.xml')]"
   ]
  },
  {
   "cell_type": "code",
   "execution_count": 5,
   "metadata": {},
   "outputs": [
    {
     "name": "stdout",
     "output_type": "stream",
     "text": [
      "Found 1252 input files\n"
     ]
    }
   ],
   "source": [
    "print(\"Found %d input files\" % len(inputFiles))"
   ]
  },
  {
   "cell_type": "code",
   "execution_count": 6,
   "metadata": {},
   "outputs": [],
   "source": [
    "root = etree.XML(\"<collection/>\")\n",
    "for inputFile in inputFiles:\n",
    "    collection = etree.parse(inputFile)\n",
    "    for record in collection.findall(\"//record\"):\n",
    "        root.append(record)"
   ]
  },
  {
   "cell_type": "code",
   "execution_count": 7,
   "metadata": {},
   "outputs": [],
   "source": [
    "records = root.findall(\".//record\")"
   ]
  },
  {
   "cell_type": "code",
   "execution_count": 8,
   "metadata": {},
   "outputs": [],
   "source": [
    "entityTypes = list(set([d.text for d in root.findall('.//parsed_internal_remarks/item/typ/value')]))"
   ]
  },
  {
   "cell_type": "code",
   "execution_count": 9,
   "metadata": {},
   "outputs": [
    {
     "name": "stdout",
     "output_type": "stream",
     "text": [
      "Types:\n",
      " - Person\n",
      " - Person Rolle1: Erwähnt (Empty) Rolle2: Abgebildet (dpc) (Empty)\n",
      " - Geografikum\n"
     ]
    }
   ],
   "source": [
    "print(\"Types:\\n -\", \"\\n - \".join(entityTypes))"
   ]
  },
  {
   "cell_type": "code",
   "execution_count": 10,
   "metadata": {},
   "outputs": [],
   "source": [
    "entityRoles = list(set([d.text for d in root.findall('.//parsed_internal_remarks/item/rolle/value')]))"
   ]
  },
  {
   "cell_type": "code",
   "execution_count": 11,
   "metadata": {},
   "outputs": [
    {
     "name": "stdout",
     "output_type": "stream",
     "text": [
      "Roles:\n",
      " - Beteiligt\n",
      " - Ewähnt\n",
      " - Entstehungsort\n",
      " - Absendeort\n",
      " - Abgebildet\n",
      " - Adressat\n",
      " - Erwähnt\n"
     ]
    }
   ],
   "source": [
    "print(\"Roles:\\n -\", \"\\n - \".join(entityRoles))"
   ]
  },
  {
   "cell_type": "code",
   "execution_count": 12,
   "metadata": {},
   "outputs": [],
   "source": [
    "typesAndRoles = {}"
   ]
  },
  {
   "cell_type": "code",
   "execution_count": 14,
   "metadata": {},
   "outputs": [],
   "source": [
    "for item in root.findall('.//parsed_internal_remarks/item'):\n",
    "    try:\n",
    "        entityType = item.find('typ/value').text\n",
    "    except:\n",
    "        continue\n",
    "    if not entityType in typesAndRoles:\n",
    "        typesAndRoles[entityType] = []\n",
    "    try:\n",
    "        role = item.find('rolle/value').text\n",
    "    except:\n",
    "        continue\n",
    "    if not role in typesAndRoles[entityType]:\n",
    "        typesAndRoles[entityType].append(role)"
   ]
  },
  {
   "cell_type": "code",
   "execution_count": 15,
   "metadata": {},
   "outputs": [
    {
     "data": {
      "text/plain": [
       "{'Geografikum': ['Entstehungsort', 'Absendeort'],\n",
       " 'Person': ['Erwähnt', 'Abgebildet', 'Beteiligt', 'Adressat', 'Ewähnt'],\n",
       " 'Person Rolle1: Erwähnt (Empty) Rolle2: Abgebildet (dpc) (Empty)': []}"
      ]
     },
     "execution_count": 15,
     "metadata": {},
     "output_type": "execute_result"
    }
   ],
   "source": [
    "typesAndRoles"
   ]
  },
  {
   "cell_type": "code",
   "execution_count": 25,
   "metadata": {},
   "outputs": [
    {
     "name": "stdout",
     "output_type": "stream",
     "text": [
      "b'<item>\\n        <entitaet>\\n          <value>Unterzeichner einer Erlaubnisurkunde des Provinzial-Schulkollegiums Berlin</value>\\n        </entitaet>\\n        <typ>\\n          <value>Person</value>\\n        </typ>\\n        <rolle>\\n          <value>Beteiligt</value>\\n          <qualifier>Contributor</qualifier>\\n        </rolle>\\n        <bemerkungen>\\n          <value>Name unleserlich, m&#246;glicherweise Pretzel (Quelle: Vorlage Cf 1). Beziehungen zu Organisationen: Berlin. Provinzial-Schulkollegium</value>\\n          <identifiers>\\n            <item>\\n              <position>130</position>\\n              <source>GND</source>\\n              <value>1082551279</value>\\n            </item>\\n          </identifiers>\\n        </bemerkungen>\\n      </item>\\n      \\n'\n"
     ]
    }
   ],
   "source": [
    "for item in root.findall('.//parsed_internal_remarks/item'):\n",
    "    entityType = item.find('typ/value')\n",
    "    role = item.find('rolle/value')\n",
    "    if entityType is not None and role is not None:\n",
    "        if entityType.text == \"Person\" and role.text == \"Beteiligt\":\n",
    "            print(etree.tostring(item, pretty_print=True))"
   ]
  },
  {
   "cell_type": "code",
   "execution_count": null,
   "metadata": {},
   "outputs": [],
   "source": []
  },
  {
   "cell_type": "code",
   "execution_count": null,
   "metadata": {},
   "outputs": [],
   "source": []
  }
 ],
 "metadata": {
  "kernelspec": {
   "display_name": "Python 3",
   "language": "python",
   "name": "python3"
  },
  "language_info": {
   "codemirror_mode": {
    "name": "ipython",
    "version": 3
   },
   "file_extension": ".py",
   "mimetype": "text/x-python",
   "name": "python",
   "nbconvert_exporter": "python",
   "pygments_lexer": "ipython3",
   "version": "3.7.3"
  }
 },
 "nbformat": 4,
 "nbformat_minor": 2
}
